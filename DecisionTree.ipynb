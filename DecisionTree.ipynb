{
  "nbformat": 4,
  "nbformat_minor": 0,
  "metadata": {
    "colab": {
      "provenance": []
    },
    "kernelspec": {
      "name": "python3",
      "display_name": "Python 3"
    },
    "language_info": {
      "name": "python"
    }
  },
  "cells": [
    {
      "cell_type": "code",
      "execution_count": 6,
      "metadata": {
        "id": "HXGnAEeXtirP"
      },
      "outputs": [],
      "source": [
        "import pandas as pd\n",
        "import numpy as np\n",
        "from collections import Counter\n",
        "from sklearn.model_selection import train_test_split\n",
        "from sklearn.metrics import accuracy_score, classification_report\n"
      ]
    },
    {
      "cell_type": "code",
      "source": [
        "def load_and_preprocess(path):\n",
        "    df = pd.read_csv(path)\n",
        "\n",
        "    # Keep relevant columns\n",
        "    df = df[['Pclass', 'Gender', 'Age', 'Fare', 'Embarked', 'Survived']]\n",
        "    # TODO: Drop rows with missing values\n",
        "    df.dropna(inplace=True)\n",
        "    # TODO: Convert Age to AgeGroup (Child if < 16, else Adult)\n",
        "    df['AgeGroup']=df['Age'].apply(lambda age:'Child' if age<16 else 'Adult' )\n",
        "    df.drop('Age',axis=1,inplace=True)\n",
        "\n",
        "    # TODO: Encode categorical features ('Gender', 'Embarked', 'AgeGroup')\n",
        "    df['Gender']=df['Gender'].map({'male':0, 'female':1})\n",
        "    df['Embarked']=df['Embarked'].map({'S':0, 'C':1, 'Q':2})\n",
        "    df['AgeGroup']=df['AgeGroup'].map({'Child':0, 'Adult':1})\n",
        "\n",
        "\n",
        "\n",
        "    # TODO: Prepare X and y\n",
        "\n",
        "    X=df[['Pclass', 'Gender', 'Fare', 'Embarked', 'AgeGroup']]\n",
        "    y=df['Survived']\n",
        "\n",
        "    # Return train-test split\n",
        "    return train_test_split(X.values, y.values, test_size=0.2, random_state=42)\n",
        "\n"
      ],
      "metadata": {
        "id": "jndEZ7Wi6G4Q"
      },
      "execution_count": 14,
      "outputs": []
    },
    {
      "cell_type": "code",
      "source": [
        "def entropy(y):\n",
        "    # TODO: Implement entropy calculation\n",
        "    counts=Counter(y)\n",
        "    total=len(y)\n",
        "    e=0\n",
        "    for label in counts:\n",
        "        p=counts[label]/total\n",
        "        e-=p*np.log2(p)\n",
        "\n",
        "    return e\n",
        "\n",
        "\n"
      ],
      "metadata": {
        "id": "qF_5dKxnl8SS"
      },
      "execution_count": 18,
      "outputs": []
    },
    {
      "cell_type": "code",
      "source": [
        "def information_gain(X_column, y, threshold):\n",
        "    # TODO: Calculate information gain for a split\n",
        "    parent_e=entropy(y)\n",
        "    left_indices=X_column<=threshold\n",
        "    right_indices=X_column>threshold\n",
        "\n",
        "\n",
        "    if sum(left_indices)==0 or sum(right_indices)==0:\n",
        "      return 0\n",
        "\n",
        "    n=len(y)\n",
        "    left_e=entropy(y[left_indices])\n",
        "    right_e=entropy(y[right_indices])\n",
        "    child_entropy = (sum(left_indices) / n) * left_e + (sum(right_indices) / n) * right_e\n",
        "    ig=parent_e-child_entropy\n",
        "    return ig\n",
        "\n",
        "\n",
        "\n",
        "\n",
        "\n",
        "\n"
      ],
      "metadata": {
        "id": "bXNsYifNl8V2"
      },
      "execution_count": 7,
      "outputs": []
    },
    {
      "cell_type": "code",
      "source": [
        "def best_split(X, y):\n",
        "    # TODO: Loop through features and thresholds to find best split\n",
        "    best_gain=-1\n",
        "    best_feature=None\n",
        "    best_threshold=None\n",
        "\n",
        "    for feature_index in range(X.shape[1]):\n",
        "      values=np.unique(X[:, feature_index])\n",
        "      for threshold in values:\n",
        "        gain=information_gain(X[:, feature_index], y, threshold)\n",
        "        if gain>best_gain:\n",
        "          best_gain=gain\n",
        "          best_feature=feature_index\n",
        "          best_threshold=threshold\n",
        "\n",
        "    return best_feature, best_threshold\n",
        "\n",
        "\n",
        "\n"
      ],
      "metadata": {
        "id": "0vRF-AhooPd2"
      },
      "execution_count": 9,
      "outputs": []
    },
    {
      "cell_type": "code",
      "source": [
        "class Node:\n",
        "    def __init__(self, feature=None, threshold=None, left=None, right=None, value=None):\n",
        "        self.feature = feature\n",
        "        self.threshold = threshold\n",
        "        self.left = left\n",
        "        self.right = right\n",
        "        self.value = value"
      ],
      "metadata": {
        "id": "Y8xl5Bz9oPfd"
      },
      "execution_count": 8,
      "outputs": []
    },
    {
      "cell_type": "code",
      "source": [
        "def build_tree(X, y, depth=0, max_depth=5):\n",
        "    # TODO: Recursive tree building using ID3\n",
        "    if len(set(y))==1 or depth>=max_depth:\n",
        "      leaf_value=Counter(y).most_common(1)[0][0]\n",
        "      return Node(value=leaf_value)\n",
        "\n",
        "    feature, threshold=best_split(X,y)\n",
        "\n",
        "    if feature is None:\n",
        "      leaf_value=Counter(y).most_common(1)[0][0]\n",
        "      return Node(value=leaf_value)\n",
        "\n",
        "    left_indices=X[:,feature]<=threshold\n",
        "    right_indices=X[:,feature]>threshold\n",
        "\n",
        "    left = build_tree(X[left_indices], y[left_indices], depth + 1, max_depth)\n",
        "    right = build_tree(X[right_indices], y[right_indices], depth + 1, max_depth)\n",
        "\n",
        "    return Node(feature=feature, threshold=threshold, left=left, right=right)\n",
        "\n",
        "\n",
        "\n",
        "\n"
      ],
      "metadata": {
        "id": "wBceAYEAoPi6"
      },
      "execution_count": 16,
      "outputs": []
    },
    {
      "cell_type": "code",
      "source": [
        "def predict_one(x, node):\n",
        "    # TODO: Predict for single sample by traversing the tree\n",
        "    if node.value is not None:\n",
        "      return node.value\n",
        "\n",
        "    if x[node.feature]<=node.threshold:\n",
        "      return predict_one(x,node.left)\n",
        "    else:\n",
        "      return predict_one(x, node.right)\n",
        "\n"
      ],
      "metadata": {
        "id": "e-kn8RQloPkh"
      },
      "execution_count": 12,
      "outputs": []
    },
    {
      "cell_type": "code",
      "source": [
        "def predict(X, tree):\n",
        "    # TODO: Predict for all samples\n",
        "    return [predict_one(x, tree) for x in X]\n",
        "\n",
        "\n"
      ],
      "metadata": {
        "id": "N9MvK0o7oZCW"
      },
      "execution_count": 11,
      "outputs": []
    },
    {
      "cell_type": "code",
      "source": [
        "if __name__ == \"__main__\":\n",
        "    X_train, X_test, y_train, y_test = load_and_preprocess(\"/titanic.csv\")\n",
        "\n",
        "    tree = build_tree(X_train, y_train, max_depth=5)\n",
        "    y_pred = predict(X_test, tree)\n",
        "\n",
        "    print(\"Accuracy:\", accuracy_score(y_test, y_pred))\n",
        "    print(classification_report(y_test, y_pred))"
      ],
      "metadata": {
        "id": "_d9q5ioBoPo5",
        "colab": {
          "base_uri": "https://localhost:8080/"
        },
        "outputId": "a127529a-b2a0-49bc-8ccd-4d5a289edcf0"
      },
      "execution_count": 19,
      "outputs": [
        {
          "output_type": "stream",
          "name": "stdout",
          "text": [
            "Accuracy: 0.7902097902097902\n",
            "              precision    recall  f1-score   support\n",
            "\n",
            "           0       0.78      0.88      0.82        80\n",
            "           1       0.81      0.68      0.74        63\n",
            "\n",
            "    accuracy                           0.79       143\n",
            "   macro avg       0.79      0.78      0.78       143\n",
            "weighted avg       0.79      0.79      0.79       143\n",
            "\n"
          ]
        }
      ]
    },
    {
      "cell_type": "code",
      "source": [],
      "metadata": {
        "id": "n5oR3GE3pCcZ"
      },
      "execution_count": null,
      "outputs": []
    }
  ]
}