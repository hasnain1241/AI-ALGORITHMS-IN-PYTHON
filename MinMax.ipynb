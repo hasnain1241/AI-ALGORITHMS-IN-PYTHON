{
  "cells": [
    {
      "cell_type": "markdown",
      "id": "fdb39e84",
      "metadata": {
        "id": "fdb39e84"
      },
      "source": [
        "# Nim Game with Minimax\n",
        "This notebook provides a basic structure. Your task is to complete the game logic and the Minimax AI."
      ]
    },
    {
      "cell_type": "markdown",
      "id": "01ad7c32",
      "metadata": {
        "id": "01ad7c32"
      },
      "source": [
        "## Game Setup"
      ]
    },
    {
      "cell_type": "code",
      "execution_count": 2,
      "id": "62683279",
      "metadata": {
        "id": "62683279"
      },
      "outputs": [],
      "source": [
        "\n",
        "def initialize_game():\n",
        "    \"\"\"Initialize the piles with 3, 4, and 5 sticks.\"\"\"\n",
        "\n",
        "    return [3, 4, 5]\n"
      ]
    },
    {
      "cell_type": "markdown",
      "id": "2d35f899",
      "metadata": {
        "id": "2d35f899"
      },
      "source": [
        "## Functions"
      ]
    },
    {
      "cell_type": "code",
      "execution_count": 1,
      "id": "dd3b6a09",
      "metadata": {
        "id": "dd3b6a09",
        "colab": {
          "base_uri": "https://localhost:8080/"
        },
        "outputId": "1bde7803-ef53-47b3-9f7d-d1e71007df2c"
      },
      "outputs": [
        {
          "output_type": "stream",
          "name": "stdout",
          "text": [
            "True\n"
          ]
        }
      ],
      "source": [
        "def is_terminal(piles):\n",
        "    \"\"\"Check if the game has ended (no sticks left).\"\"\"\n",
        "    return all(pile == 0 for pile in piles)\n",
        "\n",
        "\n",
        "print(is_terminal([0, 0, 0]))"
      ]
    },
    {
      "cell_type": "code",
      "execution_count": 3,
      "id": "20563a1f",
      "metadata": {
        "id": "20563a1f",
        "colab": {
          "base_uri": "https://localhost:8080/"
        },
        "outputId": "5eb93872-cdd6-4fec-b626-b6389a096462"
      },
      "outputs": [
        {
          "output_type": "stream",
          "name": "stdout",
          "text": [
            "[(0, 1), (1, 1), (1, 2), (2, 1), (2, 2), (2, 3)]\n"
          ]
        }
      ],
      "source": [
        "def get_valid_moves(piles):\n",
        "    \"\"\"Return all valid moves as (pile_index, num_to_remove) pairs.\"\"\"\n",
        "    valid_moves = []\n",
        "\n",
        "    for pile_index, sticks in enumerate(piles):\n",
        "        if sticks > 0:  # If there are sticks in the pile\n",
        "            for num_to_remove in range(1, sticks + 1):  # Remove 1 to all available sticks, stick+1---> because range end at a and b-1\n",
        "                valid_moves.append((pile_index, num_to_remove))\n",
        "\n",
        "    return valid_moves\n",
        "\n",
        "print(get_valid_moves([1, 2, 3]))"
      ]
    },
    {
      "cell_type": "code",
      "execution_count": 4,
      "id": "1c1c5f4d",
      "metadata": {
        "id": "1c1c5f4d"
      },
      "outputs": [],
      "source": [
        "def apply_move(piles, pile_index, num_to_remove):\n",
        "    \"\"\"Return a new list of piles after applying a move.\"\"\"\n",
        "    new_piles = piles[:]  # Create a copy of the piles list\n",
        "    new_piles[pile_index] -= num_to_remove  # Apply the move\n",
        "    return new_piles\n"
      ]
    },
    {
      "cell_type": "code",
      "execution_count": 5,
      "id": "e1498086",
      "metadata": {
        "id": "e1498086"
      },
      "outputs": [],
      "source": [
        "def minimax(piles, is_maximizing):\n",
        "    \"\"\"Minimax recursive algorithm to determine best score.\"\"\"\n",
        "    if is_terminal(piles):  # Base case: game over\n",
        "        return 1 if not is_maximizing else -1  # If AI wins return 1, else -1\n",
        "\n",
        "    valid_moves = get_valid_moves(piles)\n",
        "\n",
        "    if is_maximizing:\n",
        "        best_score = float('-inf')  # AI wants max score\n",
        "        for move in valid_moves:\n",
        "            new_piles = apply_move(piles, move[0], move[1])  # Apply move\n",
        "            score = minimax(new_piles, False)  # Recur with opponent's turn\n",
        "            best_score = max(best_score, score)  # Choose max score\n",
        "    else:\n",
        "        best_score = float('inf')  # Opponent wants min score\n",
        "        for move in valid_moves:\n",
        "            new_piles = apply_move(piles, move[0], move[1])  # Apply move\n",
        "            score = minimax(new_piles, True)  # Recur with AI's turn\n",
        "            best_score = min(best_score, score)  # Choose min score\n",
        "\n",
        "    return best_score\n"
      ]
    },
    {
      "cell_type": "code",
      "execution_count": 6,
      "id": "3144b1da",
      "metadata": {
        "id": "3144b1da"
      },
      "outputs": [],
      "source": [
        "def find_best_move(piles):\n",
        "    \"\"\"Return the best move for the AI using Minimax.\"\"\"\n",
        "    best_move = None\n",
        "    best_score = float('-inf')  # AI wants to maximize its score\n",
        "\n",
        "    for move in get_valid_moves(piles):\n",
        "        new_piles = apply_move(piles, move[0], move[1])  # Apply move\n",
        "        score = minimax(new_piles, False)  # Assume opponent plays next\n",
        "\n",
        "        if score > best_score:  # If this move is better, update best move\n",
        "            best_score = score\n",
        "            best_move = move  # Store (pile_index, num_to_remove)\n",
        "\n",
        "    return best_move  # Return the best move found\n"
      ]
    },
    {
      "cell_type": "code",
      "execution_count": 7,
      "id": "dcb3b500",
      "metadata": {
        "id": "dcb3b500"
      },
      "outputs": [],
      "source": [
        "def get_human_move(piles):\n",
        "    \"\"\"Get a valid move from the human player.\"\"\"\n",
        "    while True:\n",
        "        try:\n",
        "            pile_index = int(input(\"Choose a pile (1, 2, or 3): \")) - 1  # Convert to 0-based index\n",
        "            num_to_remove = int(input(\"How many sticks do you want to remove? \"))\n",
        "\n",
        "            # Validate input\n",
        "            if pile_index not in range(3):\n",
        "                print(\"Invalid pile number. Choose 1, 2, or 3.\")\n",
        "                continue\n",
        "            if piles[pile_index] == 0:\n",
        "                print(\"That pile is empty. Choose a different one.\")\n",
        "                continue\n",
        "            if num_to_remove < 1 or num_to_remove > piles[pile_index]:\n",
        "                print(f\"Invalid number of sticks. You can remove between 1 and {piles[pile_index]} sticks.\")\n",
        "                continue\n",
        "\n",
        "            return (pile_index, num_to_remove)  # Return valid move\n",
        "\n",
        "        except ValueError:\n",
        "            print(\"Invalid input. Please enter numbers only.\")\n"
      ]
    },
    {
      "cell_type": "code",
      "execution_count": 8,
      "id": "e701b833",
      "metadata": {
        "id": "e701b833"
      },
      "outputs": [],
      "source": [
        "def game_loop():\n",
        "    \"\"\"Main game loop where human and AI take turns.\"\"\"\n",
        "    piles = initialize_game()  # Start with [3, 4, 5]\n",
        "    current_player = \"HUMAN\"  # Human plays first\n",
        "\n",
        "    while not is_terminal(piles):  # Check if game is over\n",
        "        print(f\"\\nPiles: {piles}\")  # Show current state\n",
        "\n",
        "        if current_player == \"HUMAN\":\n",
        "            pile, amount = get_human_move(piles)  # Get user input\n",
        "        else:\n",
        "            print(\"AI is thinking...\")\n",
        "            pile, amount = find_best_move(piles)  # AI picks best move\n",
        "            print(f\"AI removes {amount} stick(s) from pile {pile+1}\")\n",
        "\n",
        "        piles = apply_move(piles, pile, amount)  # Apply move\n",
        "        current_player = \"AI\" if current_player == \"HUMAN\" else \"HUMAN\"  # Switch turn\n",
        "\n",
        "    print(f\"\\nGame over! {current_player} loses.\")  # Last player to move wins\n"
      ]
    },
    {
      "cell_type": "code",
      "execution_count": 11,
      "id": "884f89e6",
      "metadata": {
        "id": "884f89e6",
        "colab": {
          "base_uri": "https://localhost:8080/"
        },
        "outputId": "8bef46ea-8872-4f4f-ac41-0fdfb343f232"
      },
      "outputs": [
        {
          "output_type": "stream",
          "name": "stdout",
          "text": [
            "\n",
            "Piles: [3, 4, 5]\n",
            "Choose a pile (1, 2, or 3): 1\n",
            "How many sticks do you want to remove? 3\n",
            "\n",
            "Piles: [0, 4, 5]\n",
            "AI is thinking...\n",
            "AI removes 1 stick(s) from pile 3\n",
            "\n",
            "Piles: [0, 4, 4]\n",
            "Choose a pile (1, 2, or 3): 3\n",
            "How many sticks do you want to remove? 4\n",
            "\n",
            "Piles: [0, 4, 0]\n",
            "AI is thinking...\n",
            "AI removes 4 stick(s) from pile 2\n",
            "\n",
            "Game over! HUMAN loses.\n"
          ]
        }
      ],
      "source": [
        "\n",
        "# Run the game\n",
        "game_loop()\n"
      ]
    },
    {
      "cell_type": "code",
      "source": [],
      "metadata": {
        "id": "l1kRXOmtQlGk"
      },
      "id": "l1kRXOmtQlGk",
      "execution_count": null,
      "outputs": []
    }
  ],
  "metadata": {
    "language_info": {
      "name": "python"
    },
    "colab": {
      "provenance": []
    },
    "kernelspec": {
      "name": "python3",
      "display_name": "Python 3"
    }
  },
  "nbformat": 4,
  "nbformat_minor": 5
}